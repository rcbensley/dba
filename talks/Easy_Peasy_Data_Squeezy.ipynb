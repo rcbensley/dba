{
 "cells": [
  {
   "cell_type": "markdown",
   "metadata": {},
   "source": [
    "# Easy Peasy Data Squeezy\n",
    "### A quick example of aggregating structured data with logs"
   ]
  },
  {
   "cell_type": "markdown",
   "metadata": {},
   "source": [
    "In this scenario, we will aggregate (join) unstructured data from a Numpy generated log file. The lookup values to denormalise the log data using a join are stored in an SQL database (sqlite).\n",
    "Both the SQL and log data will be loaded into Pandas DataFrames and joined into a new DataFrame. At this point we can plot results and even persist the aggregation to object storage for later retrieval.\n",
    "\n",
    "This is also a simple example of unbundling databases using Python's DBAPI and generic object storage; aside from some connector boilerplate, this example can be adjusted and applied to any RDBMS (mysql/sql server/oracle/postgresql/etc) and NoSQL system (mongodb/foundationdb/cassandra/etc), so long as they have Python or ODBC drivers."
   ]
  },
  {
   "cell_type": "markdown",
   "metadata": {},
   "source": [
    "Requirements:\n",
    "* Python 3.4+.\n",
    "* Pandas, to create the aggregates.\n",
    "* matplotlib, everyone likes graphs.\n",
    "* SQLalchemy, to connect to the database.\n",
    "\n",
    "Later on:\n",
    "* odo, data shape shifting\n",
    "* MongoDB (optional), for eventually persisting our aggregate into a document store."
   ]
  },
  {
   "cell_type": "code",
   "execution_count": 7,
   "metadata": {},
   "outputs": [],
   "source": [
    "import sqlalchemy\n",
    "\n",
    "# Load database:\n",
    "# $ sqlite3 -cmd \".read db.sql\" db.sqlite\n",
    "\n",
    "db = sqlalchemy.create_engine(\"sqlite:///db.sqlite\")"
   ]
  },
  {
   "cell_type": "code",
   "execution_count": 8,
   "metadata": {},
   "outputs": [],
   "source": [
    "sql = (\"\"\"DROP TABLE IF EXISTS traders;\"\"\",\n",
    "       \"\"\"CREATE TABLE traders (\n",
    "          trader_id INTEGER PRIMARY KEY,\n",
    "          first_name text NOT NULL,\n",
    "          last_name text NOT NULL);\"\"\",\n",
    "       \"\"\"DROP TABLE IF EXISTS customers;\"\"\",\n",
    "       \"\"\"CREATE TABLE customers (\n",
    "          customer_id INTEGER PRIMARY KEY,\n",
    "          customer_symbol VARCHAR(8) NOT NULL,\n",
    "          customer_name TEXT NOT NULL);\"\"\",\n",
    "       \"\"\"INSERT INTO customers (customer_symbol, customer_name) VALUES (\"III\", \"3i Group Plc\"), (\"LLOY\", \"Lloyds Banking Group plc\"), (\"JE.\", \"Just Eat plc\"), (\"VOD\", \"Vodafone Group plc\"), (\"AHT\", \"Ashtead Group plc\");\"\"\",\n",
    "       \"\"\"INSERT INTO traders (first_name, last_name) VALUES (\"Jordan\",\"Belforf\"), (\"Donnie\", \"Azoff\"), (\"Robbie\", \"Feinberg\");\"\"\")"
   ]
  },
  {
   "cell_type": "code",
   "execution_count": 9,
   "metadata": {},
   "outputs": [],
   "source": [
    "for s in sql:\n",
    "    db.execute(s)"
   ]
  },
  {
   "cell_type": "markdown",
   "metadata": {},
   "source": [
    "### Fake the log data"
   ]
  },
  {
   "cell_type": "code",
   "execution_count": 2,
   "metadata": {},
   "outputs": [],
   "source": [
    "import random\n",
    "import pandas\n",
    "import datetime\n",
    "\n",
    "trade_log = list([(datetime.datetime.strftime(i, \"%Y-%m-%d %H:%M:%S\"), random.random(), random.randint(1,3), random.randint(1,5)) for i in pandas.date_range(pandas.datetime.today(), periods=100, freq='1T')])"
   ]
  },
  {
   "cell_type": "markdown",
   "metadata": {},
   "source": [
    "### All sources to DataFrames"
   ]
  },
  {
   "cell_type": "code",
   "execution_count": 3,
   "metadata": {},
   "outputs": [],
   "source": [
    "traders = pandas.read_sql_table('traders', db.engine, index_col=[\"trader_id\"])\n",
    "customers = pandas.read_sql_table('customers', db.engine, index_col=[\"customer_id\"])\n",
    "trades = pandas.DataFrame(trade_log, columns=(\"datetime\", \"revenue\", \"trader_id\", \"customer_id\"))"
   ]
  },
  {
   "cell_type": "code",
   "execution_count": 4,
   "metadata": {},
   "outputs": [
    {
     "data": {
      "text/html": [
       "<div>\n",
       "<style scoped>\n",
       "    .dataframe tbody tr th:only-of-type {\n",
       "        vertical-align: middle;\n",
       "    }\n",
       "\n",
       "    .dataframe tbody tr th {\n",
       "        vertical-align: top;\n",
       "    }\n",
       "\n",
       "    .dataframe thead th {\n",
       "        text-align: right;\n",
       "    }\n",
       "</style>\n",
       "<table border=\"1\" class=\"dataframe\">\n",
       "  <thead>\n",
       "    <tr style=\"text-align: right;\">\n",
       "      <th></th>\n",
       "      <th>first_name</th>\n",
       "      <th>last_name</th>\n",
       "    </tr>\n",
       "    <tr>\n",
       "      <th>trader_id</th>\n",
       "      <th></th>\n",
       "      <th></th>\n",
       "    </tr>\n",
       "  </thead>\n",
       "  <tbody>\n",
       "    <tr>\n",
       "      <th>1</th>\n",
       "      <td>Jordan</td>\n",
       "      <td>Belforf</td>\n",
       "    </tr>\n",
       "    <tr>\n",
       "      <th>2</th>\n",
       "      <td>Donnie</td>\n",
       "      <td>Azoff</td>\n",
       "    </tr>\n",
       "    <tr>\n",
       "      <th>3</th>\n",
       "      <td>Robbie</td>\n",
       "      <td>Feinberg</td>\n",
       "    </tr>\n",
       "  </tbody>\n",
       "</table>\n",
       "</div>"
      ],
      "text/plain": [
       "          first_name last_name\n",
       "trader_id                     \n",
       "1             Jordan   Belforf\n",
       "2             Donnie     Azoff\n",
       "3             Robbie  Feinberg"
      ]
     },
     "execution_count": 4,
     "metadata": {},
     "output_type": "execute_result"
    }
   ],
   "source": [
    "traders.head()"
   ]
  },
  {
   "cell_type": "code",
   "execution_count": 5,
   "metadata": {},
   "outputs": [
    {
     "data": {
      "text/html": [
       "<div>\n",
       "<style scoped>\n",
       "    .dataframe tbody tr th:only-of-type {\n",
       "        vertical-align: middle;\n",
       "    }\n",
       "\n",
       "    .dataframe tbody tr th {\n",
       "        vertical-align: top;\n",
       "    }\n",
       "\n",
       "    .dataframe thead th {\n",
       "        text-align: right;\n",
       "    }\n",
       "</style>\n",
       "<table border=\"1\" class=\"dataframe\">\n",
       "  <thead>\n",
       "    <tr style=\"text-align: right;\">\n",
       "      <th></th>\n",
       "      <th>customer_symbol</th>\n",
       "      <th>customer_name</th>\n",
       "    </tr>\n",
       "    <tr>\n",
       "      <th>customer_id</th>\n",
       "      <th></th>\n",
       "      <th></th>\n",
       "    </tr>\n",
       "  </thead>\n",
       "  <tbody>\n",
       "    <tr>\n",
       "      <th>1</th>\n",
       "      <td>III</td>\n",
       "      <td>3i Group Plc</td>\n",
       "    </tr>\n",
       "    <tr>\n",
       "      <th>2</th>\n",
       "      <td>LLOY</td>\n",
       "      <td>Lloyds Banking Group plc</td>\n",
       "    </tr>\n",
       "    <tr>\n",
       "      <th>3</th>\n",
       "      <td>JE.</td>\n",
       "      <td>Just Eat plc</td>\n",
       "    </tr>\n",
       "    <tr>\n",
       "      <th>4</th>\n",
       "      <td>VOD</td>\n",
       "      <td>Vodafone Group plc</td>\n",
       "    </tr>\n",
       "    <tr>\n",
       "      <th>5</th>\n",
       "      <td>AHT</td>\n",
       "      <td>Ashtead Group plc</td>\n",
       "    </tr>\n",
       "  </tbody>\n",
       "</table>\n",
       "</div>"
      ],
      "text/plain": [
       "            customer_symbol             customer_name\n",
       "customer_id                                          \n",
       "1                       III              3i Group Plc\n",
       "2                      LLOY  Lloyds Banking Group plc\n",
       "3                       JE.              Just Eat plc\n",
       "4                       VOD        Vodafone Group plc\n",
       "5                       AHT         Ashtead Group plc"
      ]
     },
     "execution_count": 5,
     "metadata": {},
     "output_type": "execute_result"
    }
   ],
   "source": [
    "customers.head()"
   ]
  },
  {
   "cell_type": "code",
   "execution_count": 6,
   "metadata": {},
   "outputs": [
    {
     "data": {
      "text/html": [
       "<div>\n",
       "<style scoped>\n",
       "    .dataframe tbody tr th:only-of-type {\n",
       "        vertical-align: middle;\n",
       "    }\n",
       "\n",
       "    .dataframe tbody tr th {\n",
       "        vertical-align: top;\n",
       "    }\n",
       "\n",
       "    .dataframe thead th {\n",
       "        text-align: right;\n",
       "    }\n",
       "</style>\n",
       "<table border=\"1\" class=\"dataframe\">\n",
       "  <thead>\n",
       "    <tr style=\"text-align: right;\">\n",
       "      <th></th>\n",
       "      <th>datetime</th>\n",
       "      <th>revenue</th>\n",
       "      <th>trader_id</th>\n",
       "      <th>customer_id</th>\n",
       "    </tr>\n",
       "  </thead>\n",
       "  <tbody>\n",
       "    <tr>\n",
       "      <th>0</th>\n",
       "      <td>2018-07-17 16:18:00</td>\n",
       "      <td>0.467787</td>\n",
       "      <td>1</td>\n",
       "      <td>5</td>\n",
       "    </tr>\n",
       "    <tr>\n",
       "      <th>1</th>\n",
       "      <td>2018-07-17 16:19:00</td>\n",
       "      <td>0.155755</td>\n",
       "      <td>2</td>\n",
       "      <td>3</td>\n",
       "    </tr>\n",
       "    <tr>\n",
       "      <th>2</th>\n",
       "      <td>2018-07-17 16:20:00</td>\n",
       "      <td>0.712867</td>\n",
       "      <td>1</td>\n",
       "      <td>2</td>\n",
       "    </tr>\n",
       "    <tr>\n",
       "      <th>3</th>\n",
       "      <td>2018-07-17 16:21:00</td>\n",
       "      <td>0.610050</td>\n",
       "      <td>1</td>\n",
       "      <td>4</td>\n",
       "    </tr>\n",
       "    <tr>\n",
       "      <th>4</th>\n",
       "      <td>2018-07-17 16:22:00</td>\n",
       "      <td>0.936232</td>\n",
       "      <td>1</td>\n",
       "      <td>1</td>\n",
       "    </tr>\n",
       "  </tbody>\n",
       "</table>\n",
       "</div>"
      ],
      "text/plain": [
       "              datetime   revenue  trader_id  customer_id\n",
       "0  2018-07-17 16:18:00  0.467787          1            5\n",
       "1  2018-07-17 16:19:00  0.155755          2            3\n",
       "2  2018-07-17 16:20:00  0.712867          1            2\n",
       "3  2018-07-17 16:21:00  0.610050          1            4\n",
       "4  2018-07-17 16:22:00  0.936232          1            1"
      ]
     },
     "execution_count": 6,
     "metadata": {},
     "output_type": "execute_result"
    }
   ],
   "source": [
    "trades.head()"
   ]
  },
  {
   "cell_type": "markdown",
   "metadata": {},
   "source": [
    "### SQL Equivalents"
   ]
  },
  {
   "cell_type": "code",
   "execution_count": 7,
   "metadata": {},
   "outputs": [],
   "source": [
    "trades_with_traders = trades.join(traders, on=[\"trader_id\"])"
   ]
  },
  {
   "cell_type": "code",
   "execution_count": 8,
   "metadata": {},
   "outputs": [
    {
     "data": {
      "text/html": [
       "<div>\n",
       "<style scoped>\n",
       "    .dataframe tbody tr th:only-of-type {\n",
       "        vertical-align: middle;\n",
       "    }\n",
       "\n",
       "    .dataframe tbody tr th {\n",
       "        vertical-align: top;\n",
       "    }\n",
       "\n",
       "    .dataframe thead th {\n",
       "        text-align: right;\n",
       "    }\n",
       "</style>\n",
       "<table border=\"1\" class=\"dataframe\">\n",
       "  <thead>\n",
       "    <tr style=\"text-align: right;\">\n",
       "      <th></th>\n",
       "      <th>datetime</th>\n",
       "      <th>revenue</th>\n",
       "      <th>trader_id</th>\n",
       "      <th>customer_id</th>\n",
       "      <th>first_name</th>\n",
       "      <th>last_name</th>\n",
       "    </tr>\n",
       "  </thead>\n",
       "  <tbody>\n",
       "    <tr>\n",
       "      <th>0</th>\n",
       "      <td>2018-07-17 16:18:00</td>\n",
       "      <td>0.467787</td>\n",
       "      <td>1</td>\n",
       "      <td>5</td>\n",
       "      <td>Jordan</td>\n",
       "      <td>Belforf</td>\n",
       "    </tr>\n",
       "    <tr>\n",
       "      <th>1</th>\n",
       "      <td>2018-07-17 16:19:00</td>\n",
       "      <td>0.155755</td>\n",
       "      <td>2</td>\n",
       "      <td>3</td>\n",
       "      <td>Donnie</td>\n",
       "      <td>Azoff</td>\n",
       "    </tr>\n",
       "    <tr>\n",
       "      <th>2</th>\n",
       "      <td>2018-07-17 16:20:00</td>\n",
       "      <td>0.712867</td>\n",
       "      <td>1</td>\n",
       "      <td>2</td>\n",
       "      <td>Jordan</td>\n",
       "      <td>Belforf</td>\n",
       "    </tr>\n",
       "    <tr>\n",
       "      <th>3</th>\n",
       "      <td>2018-07-17 16:21:00</td>\n",
       "      <td>0.610050</td>\n",
       "      <td>1</td>\n",
       "      <td>4</td>\n",
       "      <td>Jordan</td>\n",
       "      <td>Belforf</td>\n",
       "    </tr>\n",
       "    <tr>\n",
       "      <th>4</th>\n",
       "      <td>2018-07-17 16:22:00</td>\n",
       "      <td>0.936232</td>\n",
       "      <td>1</td>\n",
       "      <td>1</td>\n",
       "      <td>Jordan</td>\n",
       "      <td>Belforf</td>\n",
       "    </tr>\n",
       "  </tbody>\n",
       "</table>\n",
       "</div>"
      ],
      "text/plain": [
       "              datetime   revenue  trader_id  customer_id first_name last_name\n",
       "0  2018-07-17 16:18:00  0.467787          1            5     Jordan   Belforf\n",
       "1  2018-07-17 16:19:00  0.155755          2            3     Donnie     Azoff\n",
       "2  2018-07-17 16:20:00  0.712867          1            2     Jordan   Belforf\n",
       "3  2018-07-17 16:21:00  0.610050          1            4     Jordan   Belforf\n",
       "4  2018-07-17 16:22:00  0.936232          1            1     Jordan   Belforf"
      ]
     },
     "execution_count": 8,
     "metadata": {},
     "output_type": "execute_result"
    }
   ],
   "source": [
    "trades_with_traders.head()"
   ]
  },
  {
   "cell_type": "code",
   "execution_count": 9,
   "metadata": {},
   "outputs": [],
   "source": [
    "trades_flat = trades_with_traders.join(customers, on=[\"customer_id\"])"
   ]
  },
  {
   "cell_type": "code",
   "execution_count": 10,
   "metadata": {},
   "outputs": [
    {
     "data": {
      "text/html": [
       "<div>\n",
       "<style scoped>\n",
       "    .dataframe tbody tr th:only-of-type {\n",
       "        vertical-align: middle;\n",
       "    }\n",
       "\n",
       "    .dataframe tbody tr th {\n",
       "        vertical-align: top;\n",
       "    }\n",
       "\n",
       "    .dataframe thead th {\n",
       "        text-align: right;\n",
       "    }\n",
       "</style>\n",
       "<table border=\"1\" class=\"dataframe\">\n",
       "  <thead>\n",
       "    <tr style=\"text-align: right;\">\n",
       "      <th></th>\n",
       "      <th>datetime</th>\n",
       "      <th>revenue</th>\n",
       "      <th>trader_id</th>\n",
       "      <th>customer_id</th>\n",
       "      <th>first_name</th>\n",
       "      <th>last_name</th>\n",
       "      <th>customer_symbol</th>\n",
       "      <th>customer_name</th>\n",
       "    </tr>\n",
       "  </thead>\n",
       "  <tbody>\n",
       "    <tr>\n",
       "      <th>0</th>\n",
       "      <td>2018-07-17 16:18:00</td>\n",
       "      <td>0.467787</td>\n",
       "      <td>1</td>\n",
       "      <td>5</td>\n",
       "      <td>Jordan</td>\n",
       "      <td>Belforf</td>\n",
       "      <td>AHT</td>\n",
       "      <td>Ashtead Group plc</td>\n",
       "    </tr>\n",
       "    <tr>\n",
       "      <th>1</th>\n",
       "      <td>2018-07-17 16:19:00</td>\n",
       "      <td>0.155755</td>\n",
       "      <td>2</td>\n",
       "      <td>3</td>\n",
       "      <td>Donnie</td>\n",
       "      <td>Azoff</td>\n",
       "      <td>JE.</td>\n",
       "      <td>Just Eat plc</td>\n",
       "    </tr>\n",
       "    <tr>\n",
       "      <th>2</th>\n",
       "      <td>2018-07-17 16:20:00</td>\n",
       "      <td>0.712867</td>\n",
       "      <td>1</td>\n",
       "      <td>2</td>\n",
       "      <td>Jordan</td>\n",
       "      <td>Belforf</td>\n",
       "      <td>LLOY</td>\n",
       "      <td>Lloyds Banking Group plc</td>\n",
       "    </tr>\n",
       "    <tr>\n",
       "      <th>3</th>\n",
       "      <td>2018-07-17 16:21:00</td>\n",
       "      <td>0.610050</td>\n",
       "      <td>1</td>\n",
       "      <td>4</td>\n",
       "      <td>Jordan</td>\n",
       "      <td>Belforf</td>\n",
       "      <td>VOD</td>\n",
       "      <td>Vodafone Group plc</td>\n",
       "    </tr>\n",
       "    <tr>\n",
       "      <th>4</th>\n",
       "      <td>2018-07-17 16:22:00</td>\n",
       "      <td>0.936232</td>\n",
       "      <td>1</td>\n",
       "      <td>1</td>\n",
       "      <td>Jordan</td>\n",
       "      <td>Belforf</td>\n",
       "      <td>III</td>\n",
       "      <td>3i Group Plc</td>\n",
       "    </tr>\n",
       "  </tbody>\n",
       "</table>\n",
       "</div>"
      ],
      "text/plain": [
       "              datetime   revenue  trader_id  customer_id first_name last_name  \\\n",
       "0  2018-07-17 16:18:00  0.467787          1            5     Jordan   Belforf   \n",
       "1  2018-07-17 16:19:00  0.155755          2            3     Donnie     Azoff   \n",
       "2  2018-07-17 16:20:00  0.712867          1            2     Jordan   Belforf   \n",
       "3  2018-07-17 16:21:00  0.610050          1            4     Jordan   Belforf   \n",
       "4  2018-07-17 16:22:00  0.936232          1            1     Jordan   Belforf   \n",
       "\n",
       "  customer_symbol             customer_name  \n",
       "0             AHT         Ashtead Group plc  \n",
       "1             JE.              Just Eat plc  \n",
       "2            LLOY  Lloyds Banking Group plc  \n",
       "3             VOD        Vodafone Group plc  \n",
       "4             III              3i Group Plc  "
      ]
     },
     "execution_count": 10,
     "metadata": {},
     "output_type": "execute_result"
    }
   ],
   "source": [
    "trades_flat.head()"
   ]
  },
  {
   "cell_type": "code",
   "execution_count": 11,
   "metadata": {},
   "outputs": [
    {
     "name": "stdout",
     "output_type": "stream",
     "text": [
      "51.991299496964125\n"
     ]
    }
   ],
   "source": [
    "trades_total = trades['revenue'].sum()\n",
    "print(trades_total)"
   ]
  },
  {
   "cell_type": "code",
   "execution_count": 12,
   "metadata": {},
   "outputs": [
    {
     "data": {
      "text/html": [
       "<div>\n",
       "<style scoped>\n",
       "    .dataframe tbody tr th:only-of-type {\n",
       "        vertical-align: middle;\n",
       "    }\n",
       "\n",
       "    .dataframe tbody tr th {\n",
       "        vertical-align: top;\n",
       "    }\n",
       "\n",
       "    .dataframe thead th {\n",
       "        text-align: right;\n",
       "    }\n",
       "</style>\n",
       "<table border=\"1\" class=\"dataframe\">\n",
       "  <thead>\n",
       "    <tr style=\"text-align: right;\">\n",
       "      <th></th>\n",
       "      <th>revenue</th>\n",
       "      <th>customer_id</th>\n",
       "    </tr>\n",
       "    <tr>\n",
       "      <th>trader_id</th>\n",
       "      <th></th>\n",
       "      <th></th>\n",
       "    </tr>\n",
       "  </thead>\n",
       "  <tbody>\n",
       "    <tr>\n",
       "      <th>1</th>\n",
       "      <td>23.145715</td>\n",
       "      <td>132</td>\n",
       "    </tr>\n",
       "    <tr>\n",
       "      <th>2</th>\n",
       "      <td>17.814163</td>\n",
       "      <td>110</td>\n",
       "    </tr>\n",
       "    <tr>\n",
       "      <th>3</th>\n",
       "      <td>11.031422</td>\n",
       "      <td>73</td>\n",
       "    </tr>\n",
       "  </tbody>\n",
       "</table>\n",
       "</div>"
      ],
      "text/plain": [
       "             revenue  customer_id\n",
       "trader_id                        \n",
       "1          23.145715          132\n",
       "2          17.814163          110\n",
       "3          11.031422           73"
      ]
     },
     "execution_count": 12,
     "metadata": {},
     "output_type": "execute_result"
    }
   ],
   "source": [
    "trades_flat.groupby(['trader_id']).sum()"
   ]
  },
  {
   "cell_type": "code",
   "execution_count": 13,
   "metadata": {},
   "outputs": [
    {
     "data": {
      "text/html": [
       "<div>\n",
       "<style scoped>\n",
       "    .dataframe tbody tr th:only-of-type {\n",
       "        vertical-align: middle;\n",
       "    }\n",
       "\n",
       "    .dataframe tbody tr th {\n",
       "        vertical-align: top;\n",
       "    }\n",
       "\n",
       "    .dataframe thead th {\n",
       "        text-align: right;\n",
       "    }\n",
       "</style>\n",
       "<table border=\"1\" class=\"dataframe\">\n",
       "  <thead>\n",
       "    <tr style=\"text-align: right;\">\n",
       "      <th></th>\n",
       "      <th>datetime</th>\n",
       "      <th>revenue</th>\n",
       "    </tr>\n",
       "  </thead>\n",
       "  <tbody>\n",
       "    <tr>\n",
       "      <th>2</th>\n",
       "      <td>2018-07-17 16:20:00</td>\n",
       "      <td>0.712867</td>\n",
       "    </tr>\n",
       "    <tr>\n",
       "      <th>6</th>\n",
       "      <td>2018-07-17 16:24:00</td>\n",
       "      <td>0.460344</td>\n",
       "    </tr>\n",
       "    <tr>\n",
       "      <th>14</th>\n",
       "      <td>2018-07-17 16:32:00</td>\n",
       "      <td>0.513899</td>\n",
       "    </tr>\n",
       "    <tr>\n",
       "      <th>35</th>\n",
       "      <td>2018-07-17 16:53:00</td>\n",
       "      <td>0.843929</td>\n",
       "    </tr>\n",
       "    <tr>\n",
       "      <th>37</th>\n",
       "      <td>2018-07-17 16:55:00</td>\n",
       "      <td>0.741650</td>\n",
       "    </tr>\n",
       "    <tr>\n",
       "      <th>38</th>\n",
       "      <td>2018-07-17 16:56:00</td>\n",
       "      <td>0.306017</td>\n",
       "    </tr>\n",
       "    <tr>\n",
       "      <th>44</th>\n",
       "      <td>2018-07-17 17:02:00</td>\n",
       "      <td>0.262083</td>\n",
       "    </tr>\n",
       "    <tr>\n",
       "      <th>45</th>\n",
       "      <td>2018-07-17 17:03:00</td>\n",
       "      <td>0.100855</td>\n",
       "    </tr>\n",
       "    <tr>\n",
       "      <th>49</th>\n",
       "      <td>2018-07-17 17:07:00</td>\n",
       "      <td>0.723553</td>\n",
       "    </tr>\n",
       "    <tr>\n",
       "      <th>51</th>\n",
       "      <td>2018-07-17 17:09:00</td>\n",
       "      <td>0.495430</td>\n",
       "    </tr>\n",
       "    <tr>\n",
       "      <th>54</th>\n",
       "      <td>2018-07-17 17:12:00</td>\n",
       "      <td>0.583640</td>\n",
       "    </tr>\n",
       "    <tr>\n",
       "      <th>56</th>\n",
       "      <td>2018-07-17 17:14:00</td>\n",
       "      <td>0.755103</td>\n",
       "    </tr>\n",
       "    <tr>\n",
       "      <th>59</th>\n",
       "      <td>2018-07-17 17:17:00</td>\n",
       "      <td>0.211566</td>\n",
       "    </tr>\n",
       "    <tr>\n",
       "      <th>60</th>\n",
       "      <td>2018-07-17 17:18:00</td>\n",
       "      <td>0.627351</td>\n",
       "    </tr>\n",
       "    <tr>\n",
       "      <th>75</th>\n",
       "      <td>2018-07-17 17:33:00</td>\n",
       "      <td>0.133848</td>\n",
       "    </tr>\n",
       "    <tr>\n",
       "      <th>89</th>\n",
       "      <td>2018-07-17 17:47:00</td>\n",
       "      <td>0.694862</td>\n",
       "    </tr>\n",
       "    <tr>\n",
       "      <th>94</th>\n",
       "      <td>2018-07-17 17:52:00</td>\n",
       "      <td>0.472404</td>\n",
       "    </tr>\n",
       "    <tr>\n",
       "      <th>97</th>\n",
       "      <td>2018-07-17 17:55:00</td>\n",
       "      <td>0.841707</td>\n",
       "    </tr>\n",
       "  </tbody>\n",
       "</table>\n",
       "</div>"
      ],
      "text/plain": [
       "               datetime   revenue\n",
       "2   2018-07-17 16:20:00  0.712867\n",
       "6   2018-07-17 16:24:00  0.460344\n",
       "14  2018-07-17 16:32:00  0.513899\n",
       "35  2018-07-17 16:53:00  0.843929\n",
       "37  2018-07-17 16:55:00  0.741650\n",
       "38  2018-07-17 16:56:00  0.306017\n",
       "44  2018-07-17 17:02:00  0.262083\n",
       "45  2018-07-17 17:03:00  0.100855\n",
       "49  2018-07-17 17:07:00  0.723553\n",
       "51  2018-07-17 17:09:00  0.495430\n",
       "54  2018-07-17 17:12:00  0.583640\n",
       "56  2018-07-17 17:14:00  0.755103\n",
       "59  2018-07-17 17:17:00  0.211566\n",
       "60  2018-07-17 17:18:00  0.627351\n",
       "75  2018-07-17 17:33:00  0.133848\n",
       "89  2018-07-17 17:47:00  0.694862\n",
       "94  2018-07-17 17:52:00  0.472404\n",
       "97  2018-07-17 17:55:00  0.841707"
      ]
     },
     "execution_count": 13,
     "metadata": {},
     "output_type": "execute_result"
    }
   ],
   "source": [
    "aht_trades = trades_flat[trades_flat['customer_id'] == 2][['datetime', 'revenue']]\n",
    "aht_trades"
   ]
  },
  {
   "cell_type": "code",
   "execution_count": 14,
   "metadata": {},
   "outputs": [],
   "source": [
    "import matplotlib\n",
    "%matplotlib inline"
   ]
  },
  {
   "cell_type": "code",
   "execution_count": 15,
   "metadata": {},
   "outputs": [
    {
     "data": {
      "text/plain": [
       "<matplotlib.axes._subplots.AxesSubplot at 0x10c378630>"
      ]
     },
     "execution_count": 15,
     "metadata": {},
     "output_type": "execute_result"
    },
    {
     "data": {
      "image/png": "[encoded data removed]",
      "text/plain": [
       "<Figure size 432x288 with 1 Axes>"
      ]
     },
     "metadata": {},
     "output_type": "display_data"
    }
   ],
   "source": [
    "aht_trades.plot()"
   ]
  },
  {
   "cell_type": "code",
   "execution_count": 16,
   "metadata": {},
   "outputs": [],
   "source": [
    "from pymongo import MongoClient\n",
    "\n",
    "trade_db = MongoClient().trades"
   ]
  },
  {
   "cell_type": "code",
   "execution_count": null,
   "metadata": {},
   "outputs": [],
   "source": []
  },
  {
   "cell_type": "code",
   "execution_count": null,
   "metadata": {},
   "outputs": [],
   "source": []
  },
  {
   "cell_type": "code",
   "execution_count": null,
   "metadata": {},
   "outputs": [],
   "source": []
  }
 ],
 "metadata": {
  "kernelspec": {
   "display_name": "Python 3",
   "language": "python",
   "name": "python3"
  },
  "language_info": {
   "codemirror_mode": {
    "name": "ipython",
    "version": 3
   },
   "file_extension": ".py",
   "mimetype": "text/x-python",
   "name": "python",
   "nbconvert_exporter": "python",
   "pygments_lexer": "ipython3",
   "version": "3.7.0"
  }
 },
 "nbformat": 4,
 "nbformat_minor": 2
}
